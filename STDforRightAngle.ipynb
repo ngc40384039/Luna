{
  "nbformat": 4,
  "nbformat_minor": 0,
  "metadata": {
    "colab": {
      "provenance": [],
      "authorship_tag": "ABX9TyPFbcUtd6MpJQUyOQ1hY9rP",
      "include_colab_link": true
    },
    "kernelspec": {
      "name": "python3",
      "display_name": "Python 3"
    },
    "language_info": {
      "name": "python"
    }
  },
  "cells": [
    {
      "cell_type": "markdown",
      "metadata": {
        "id": "view-in-github",
        "colab_type": "text"
      },
      "source": [
        "<a href=\"https://colab.research.google.com/github/ngc40384039/Luna/blob/main/STDforRightAngle.ipynb\" target=\"_parent\"><img src=\"https://colab.research.google.com/assets/colab-badge.svg\" alt=\"Open In Colab\"/></a>"
      ]
    },
    {
      "cell_type": "code",
      "execution_count": 5,
      "metadata": {
        "colab": {
          "base_uri": "https://localhost:8080/"
        },
        "id": "IGVNJMDwADyc",
        "outputId": "ca85384d-699d-4603-b83c-39309fd50d4f"
      },
      "outputs": [
        {
          "output_type": "stream",
          "name": "stdout",
          "text": [
            "انحراف معیار زوایای تماس سمت راست: 7.054\n"
          ]
        }
      ],
      "source": [
        "import numpy as np\n",
        "#Calculating STD for right contact Angles\n",
        "data = np.array([124.111, 114.363, 121.651, 118.473, 102.132, 109.877, 119.303, 117.084])\n",
        "std_dev = np.std(data, ddof=1)\n",
        "\n",
        "print(f\"انحراف معیار زوایای تماس سمت راست: {std_dev:.3f}\")\n"
      ]
    }
  ]
}