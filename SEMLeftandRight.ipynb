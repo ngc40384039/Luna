{
  "nbformat": 4,
  "nbformat_minor": 0,
  "metadata": {
    "colab": {
      "provenance": [],
      "authorship_tag": "ABX9TyNIiaL15mjva6k5QcbhmjeS",
      "include_colab_link": true
    },
    "kernelspec": {
      "name": "python3",
      "display_name": "Python 3"
    },
    "language_info": {
      "name": "python"
    }
  },
  "cells": [
    {
      "cell_type": "markdown",
      "metadata": {
        "id": "view-in-github",
        "colab_type": "text"
      },
      "source": [
        "<a href=\"https://colab.research.google.com/github/ngc40384039/Luna/blob/main/SEMLeftandRight.ipynb\" target=\"_parent\"><img src=\"https://colab.research.google.com/assets/colab-badge.svg\" alt=\"Open In Colab\"/></a>"
      ]
    },
    {
      "cell_type": "code",
      "execution_count": 2,
      "metadata": {
        "colab": {
          "base_uri": "https://localhost:8080/"
        },
        "id": "KimAnY0dH5X2",
        "outputId": "9a4c0b5c-f06e-4498-fa86-d71802905d6a"
      },
      "outputs": [
        {
          "output_type": "stream",
          "name": "stdout",
          "text": [
            "میانگین زوایای تماس سمت چپ: 114.23 ± 1.59 درجه\n",
            "میانگین زوایای تماس سمت راست: 115.87 ± 2.49 درجه\n"
          ]
        }
      ],
      "source": [
        "import numpy as np\n",
        "\n",
        "#Left and Right contact angle data\n",
        "theta_left = np.array([111.991, 115.748, 111.626, 112.686, 115.975, 118.602, 106.429, 120.764])\n",
        "theta_right = np.array([124.111, 114.363, 121.651, 118.473, 102.132, 109.877, 119.303, 117.084])\n",
        "n = len(theta_left)\n",
        "#mean\n",
        "mean_left = np.mean(theta_left)\n",
        "mean_right = np.mean(theta_right)\n",
        "#STD\n",
        "std_left = np.std(theta_left, ddof=1)\n",
        "std_right = np.std(theta_right, ddof=1)\n",
        "#SEM\n",
        "sem_left = std_left / np.sqrt(n)\n",
        "sem_right = std_right / np.sqrt(n)\n",
        "\n",
        "print(f\"میانگین زوایای تماس سمت چپ: {mean_left:.2f} ± {sem_left:.2f} درجه\")\n",
        "print(f\"میانگین زوایای تماس سمت راست: {mean_right:.2f} ± {sem_right:.2f} درجه\")\n"
      ]
    }
  ]
}