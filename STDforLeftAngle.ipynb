{
  "nbformat": 4,
  "nbformat_minor": 0,
  "metadata": {
    "colab": {
      "provenance": [],
      "authorship_tag": "ABX9TyMkMYyK4Fr7yGJjm1Fm+Ac+",
      "include_colab_link": true
    },
    "kernelspec": {
      "name": "python3",
      "display_name": "Python 3"
    },
    "language_info": {
      "name": "python"
    }
  },
  "cells": [
    {
      "cell_type": "markdown",
      "metadata": {
        "id": "view-in-github",
        "colab_type": "text"
      },
      "source": [
        "<a href=\"https://colab.research.google.com/github/ngc40384039/Luna/blob/main/STDforLeftAngle.ipynb\" target=\"_parent\"><img src=\"https://colab.research.google.com/assets/colab-badge.svg\" alt=\"Open In Colab\"/></a>"
      ]
    },
    {
      "cell_type": "code",
      "execution_count": 3,
      "metadata": {
        "colab": {
          "base_uri": "https://localhost:8080/"
        },
        "id": "IGVNJMDwADyc",
        "outputId": "6e697c42-36d0-499b-dec6-bbdf64046727"
      },
      "outputs": [
        {
          "output_type": "stream",
          "name": "stdout",
          "text": [
            "انحراف معیار زوایای تماس سمت چپ:, 4.507\n"
          ]
        }
      ],
      "source": [
        "import numpy as np\n",
        "#Calculating STD for Left contact Angles\n",
        "data = np.array([111.991, 115.748, 111.626, 112.686, 115.975, 118.602, 106.429, 120.764])\n",
        "std_dev = np.std(data, ddof=1)\n",
        "\n",
        "print(f\"انحراف معیار زوایای تماس سمت چپ:, {std_dev:.3f}\")\n"
      ]
    }
  ]
}